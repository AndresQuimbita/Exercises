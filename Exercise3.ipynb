{
 "cells": [
  {
   "cell_type": "markdown",
   "id": "6efcf462",
   "metadata": {},
   "source": [
    "Exercises\n",
    "\n",
    "Given the root of a tree and two nodes of the same tree, return the least common ancestor (LCA) of these two nodes.\n",
    "\n",
    "Example:\n",
    "\n",
    "nodes = f,g\n",
    "\n",
    "return e\n"
   ]
  },
  {
   "cell_type": "code",
   "execution_count": 270,
   "id": "2645db5c",
   "metadata": {},
   "outputs": [],
   "source": [
    "class TreeNode:\n",
    "    def __init__(self, val=0, left=None, right=None):\n",
    "        self.val = val\n",
    "        self.left = left\n",
    "        self.right = right"
   ]
  },
  {
   "cell_type": "code",
   "execution_count": 271,
   "id": "13c5d4fe",
   "metadata": {},
   "outputs": [],
   "source": [
    "def inorderTraversalrec(root):\n",
    "\n",
    "    if root is None:\n",
    "        return []\n",
    "    \n",
    "    out = inorderTraversalrec(root.left)\n",
    "    out += [root.val]\n",
    "    out += inorderTraversalrec(root.right)\n",
    "\n",
    "    return out"
   ]
  },
  {
   "cell_type": "code",
   "execution_count": 304,
   "id": "3003a620",
   "metadata": {},
   "outputs": [],
   "source": [
    "def lowest_root(root,node_left,node_right):\n",
    "    if root is None:\n",
    "        return None\n",
    "    if root.left == node_left and root.right == node_right:\n",
    "        return root \n",
    "    left = lowest_root(root.left,node_left,node_right)\n",
    "    right = lowest_root(root.right,node_left,node_right)\n",
    "    return left if left is not None else right"
   ]
  },
  {
   "cell_type": "code",
   "execution_count": 305,
   "id": "0f8b86cb",
   "metadata": {},
   "outputs": [],
   "source": [
    "c = TreeNode('c')\n",
    "d = TreeNode('d')\n",
    "b = TreeNode('b', left=c, right=d)\n",
    "\n",
    "h = TreeNode('h')\n",
    "i = TreeNode('i')\n",
    "g = TreeNode('g', left=h, right=i)\n",
    "\n",
    "f = TreeNode('f')\n",
    "e = TreeNode('e', left=f, right=g)\n",
    "\n",
    "a = TreeNode('a', left=b, right=e)"
   ]
  },
  {
   "cell_type": "code",
   "execution_count": 309,
   "id": "21aba155",
   "metadata": {},
   "outputs": [
    {
     "name": "stdout",
     "output_type": "stream",
     "text": [
      "e\n",
      "b\n",
      "a\n",
      "g\n",
      "None\n"
     ]
    }
   ],
   "source": [
    "print(lowest_root(a,f,g).val)\n",
    "print(lowest_root(a,c,d).val)\n",
    "print(lowest_root(a,b,e).val)\n",
    "print(lowest_root(a,h,i).val)\n",
    "print(lowest_root(a,a,b))"
   ]
  },
  {
   "cell_type": "code",
   "execution_count": null,
   "id": "7173201d",
   "metadata": {},
   "outputs": [],
   "source": []
  }
 ],
 "metadata": {
  "kernelspec": {
   "display_name": "Python 3",
   "language": "python",
   "name": "python3"
  },
  "language_info": {
   "codemirror_mode": {
    "name": "ipython",
    "version": 3
   },
   "file_extension": ".py",
   "mimetype": "text/x-python",
   "name": "python",
   "nbconvert_exporter": "python",
   "pygments_lexer": "ipython3",
   "version": "3.8.8"
  }
 },
 "nbformat": 4,
 "nbformat_minor": 5
}
